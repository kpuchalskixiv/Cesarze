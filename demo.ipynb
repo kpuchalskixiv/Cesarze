{
 "cells": [
  {
   "cell_type": "code",
   "execution_count": 2,
   "metadata": {},
   "outputs": [],
   "source": [
    "import re\n",
    "import numpy as np\n",
    "import scipy.io\n",
    "import os"
   ]
  },
  {
   "cell_type": "code",
   "execution_count": 89,
   "metadata": {},
   "outputs": [],
   "source": [
    "\n",
    "\n",
    "# Define paths\n",
    "data_path = '.'\n",
    "record_file = 'RECORDS'\n",
    "\n",
    "# Read RECORDS.txt to get file names\n",
    "with open(record_file, 'r') as f:\n",
    "    data_names = [line.strip() for line in f.readlines()]\n",
    "\n",
    "# Initialize data storage list\n",
    "data = []\n",
    "\n",
    "# Process each record\n",
    "for name in data_names:\n",
    "    # Initialize data structure for this record\n",
    "    record = {'cParams': {}, 'FHR': None, 'UC': None, 'Time': None}\n",
    "    \n",
    "    # Read header file (.hea)\n",
    "    with open(os.path.join(data_path, f'{name}.hea'), 'r') as f:\n",
    "        # Read the first line for sample rate and sample count\n",
    "        first_line = f.readline().strip().split()\n",
    "        n_nr_signals, n_fs, n_nr_samples = int(first_line[1]), int(first_line[2]), int(first_line[3])\n",
    "        \n",
    "        # Initialize header storage\n",
    "        c_header = []\n",
    "        \n",
    "        # Read each signal line\n",
    "        for _ in range(n_nr_signals):\n",
    "            line = f.readline().strip()\n",
    "            if 'FHR' in line or 'UC' in line:\n",
    "                line_values=line.split()[1:7]\n",
    "                line_values[1]=re.match('[0-9]*',line_values[1]).group(0)\n",
    "                values = list(map(int, line_values))\n",
    "            #elif 'UC' in line:\n",
    "            #   values = list(map(int, line.split()[1:7]))\n",
    "            c_header.append({\n",
    "                'dformat': values[0],\n",
    "                'gain': values[1],\n",
    "                'bitres': values[2],\n",
    "                'zerovalue': values[3],\n",
    "                'firstvalue': values[4],\n",
    "                'checksum': values[5]\n",
    "            })\n",
    "    \n",
    "    # Extract clinical parameters from the remaining lines in .hea file\n",
    "    with open(os.path.join(data_path, f'{name}.hea'), 'r') as f:\n",
    "        params = {}\n",
    "        for line in f:\n",
    "            if re.match('\\\\#[a-zA-Z]', line):\n",
    "                line=line.split()\n",
    "                param_val=line[-1]\n",
    "                param_name=\"_\".join(line[:-1]).replace('#', '').replace('.','')\n",
    "                #param_name = line[1:14].strip().replace(' ', '_').replace('.', '').replace('(', '_').replace(')', '').replace('/', '_')\n",
    "                params[param_name]=param_val\n",
    "                #try:\n",
    "                #    params[param_name] = float(line[15:].strip())\n",
    "                #except ValueError:\n",
    "                #    params[param_name] = line[15:].strip()\n",
    "        record['cParams'] = params\n",
    "    \n",
    "    # Read the data file (.dat)\n",
    "    with open(os.path.join(data_path, f'{name}.dat'), 'rb') as f:\n",
    "        raw_data = np.fromfile(f, dtype=np.uint16).reshape((n_nr_signals, n_nr_samples), order='F')\n",
    "    \n",
    "    # Convert raw data using header information\n",
    "    fhr = (raw_data[0, :] - c_header[0]['zerovalue']) / c_header[0]['gain']\n",
    "    uc = (raw_data[1, :] - c_header[1]['zerovalue']) / c_header[1]['gain']\n",
    "    time = np.arange(n_nr_samples) / n_fs\n",
    "    \n",
    "    # Assign data to record structure\n",
    "    record['FHR'] = fhr\n",
    "    record['UC'] = uc\n",
    "    record['Time'] = time\n",
    "    \n",
    "    # Append record to main data list\n",
    "    data.append(record)\n",
    "\n",
    "# Save as a .mat file\n",
    "scipy.io.savemat('Data.mat', {'Data': data})\n"
   ]
  },
  {
   "cell_type": "code",
   "execution_count": 81,
   "metadata": {},
   "outputs": [],
   "source": [
    "FHRs=[]\n",
    "UCs=[]\n",
    "times=[]\n",
    "for i in range(len(data)):\n",
    "    FHRs.append(data[i]['FHR'])\n",
    "    UCs.append(data[i]['UC'])\n",
    "    times.append(data[i]['Time'])\n",
    "\n",
    "    data[i]=data[i]['cParams']\n",
    "    for k in list(data[i].keys())[:2]:\n",
    "        del data[i][k]"
   ]
  },
  {
   "cell_type": "code",
   "execution_count": 82,
   "metadata": {},
   "outputs": [],
   "source": [
    "import pandas as pd\n",
    "df=pd.DataFrame(data)"
   ]
  },
  {
   "cell_type": "code",
   "execution_count": 83,
   "metadata": {},
   "outputs": [
    {
     "data": {
      "text/plain": [
       "pCO2             82\n",
       "BE              138\n",
       "Apgar1           10\n",
       "Apgar5            7\n",
       "NICU_days         1\n",
       "Seizures          1\n",
       "HIE               1\n",
       "Intubation        1\n",
       "Main_diag         1\n",
       "Other_diag        1\n",
       "Gest_weeks        7\n",
       "Weight(g)       180\n",
       "Sex               2\n",
       "Age              27\n",
       "Gravidity        10\n",
       "Parity            7\n",
       "Diabetes          2\n",
       "Hypertension      2\n",
       "Preeclampsia      2\n",
       "Liq_praecox       2\n",
       "Pyrexia           2\n",
       "Meconium          2\n",
       "Presentation      4\n",
       "Induced           2\n",
       "Istage          226\n",
       "NoProgress        2\n",
       "CK/KP             2\n",
       "IIstage           8\n",
       "Deliv_type        2\n",
       "dbID            552\n",
       "Rec_type          4\n",
       "Pos_IIst         14\n",
       "Sig2Birth         1\n",
       "dtype: int64"
      ]
     },
     "execution_count": 83,
     "metadata": {},
     "output_type": "execute_result"
    }
   ],
   "source": [
    "df.nunique()"
   ]
  },
  {
   "cell_type": "code",
   "execution_count": 86,
   "metadata": {},
   "outputs": [
    {
     "data": {
      "text/plain": [
       "array(['1', '2'], dtype=object)"
      ]
     },
     "execution_count": 86,
     "metadata": {},
     "output_type": "execute_result"
    }
   ],
   "source": [
    "df.Deliv_type.unique()"
   ]
  }
 ],
 "metadata": {
  "kernelspec": {
   "display_name": "gpu_torch",
   "language": "python",
   "name": "python3"
  },
  "language_info": {
   "codemirror_mode": {
    "name": "ipython",
    "version": 3
   },
   "file_extension": ".py",
   "mimetype": "text/x-python",
   "name": "python",
   "nbconvert_exporter": "python",
   "pygments_lexer": "ipython3",
   "version": "3.12.1"
  }
 },
 "nbformat": 4,
 "nbformat_minor": 2
}
